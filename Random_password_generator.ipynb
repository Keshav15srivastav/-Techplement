{
  "nbformat": 4,
  "nbformat_minor": 0,
  "metadata": {
    "colab": {
      "provenance": []
    },
    "kernelspec": {
      "name": "python3",
      "display_name": "Python 3"
    },
    "language_info": {
      "name": "python"
    }
  },
  "cells": [
    {
      "cell_type": "code",
      "execution_count": 2,
      "metadata": {
        "colab": {
          "base_uri": "https://localhost:8080/"
        },
        "id": "FJR9gVqrL2jD",
        "outputId": "00c153e5-6240-4a92-984f-ca9e1f604daf"
      },
      "outputs": [
        {
          "output_type": "stream",
          "name": "stdout",
          "text": [
            "Your new password is: yzJX8H%Zo?Vae#Gi\n"
          ]
        }
      ],
      "source": [
        "import random\n",
        "\n",
        "lower = \"abcdefghijklmnopqrstuvwxyz\"\n",
        "upper = \"ABCDEFGHIJKLMNOPQRSTUVWXYZ\"\n",
        "symbols = \"!@#$%^&*().?\"\n",
        "numbers = \"0123456789\"\n",
        "\n",
        "string = lower + upper + symbols + numbers\n",
        "length = 16\n",
        "password = \"\".join(random.sample(string, length))\n",
        "\n",
        "print(\"Your new password is: \" + password)"
      ]
    },
    {
      "cell_type": "code",
      "source": [
        "import string\n",
        "import random\n",
        "\n",
        "def generate_password(length, include_uppercase, include_lowercase, include_digits, include_special):\n",
        "    characters = ''\n",
        "    if include_uppercase:\n",
        "        characters += string.ascii_uppercase\n",
        "    if include_lowercase:\n",
        "        characters += string.ascii_lowercase\n",
        "    if include_digits:\n",
        "        characters += string.digits\n",
        "    if include_special:\n",
        "        characters += string.punctuation\n",
        "\n",
        "    if not characters:\n",
        "        raise ValueError(\"At least one character type must be selected\")\n",
        "\n",
        "    password = ''.join(random.choice(characters) for _ in range(length))\n",
        "    return password\n",
        "\n",
        "def main():\n",
        "    length = int(input(\"Enter the desired length of the password: \"))\n",
        "    include_uppercase = input(\"Include uppercase letters? (y/n): \").lower() == 'y'\n",
        "    include_lowercase = input(\"Include lowercase letters? (y/n): \").lower() == 'y'\n",
        "    include_digits = input(\"Include digits? (y/n): \").lower() == 'y'\n",
        "    include_special = input(\"Include special characters? (y/n): \").lower() == 'y'\n",
        "\n",
        "    try:\n",
        "        password = generate_password(length, include_uppercase, include_lowercase, include_digits, include_special)\n",
        "        print(f\"Generated password: {password}\")\n",
        "    except ValueError as e:\n",
        "        print(e)\n",
        "\n",
        "if __name__ == \"__main__\":\n",
        "    main()\n"
      ],
      "metadata": {
        "colab": {
          "base_uri": "https://localhost:8080/"
        },
        "id": "97mu8GaZMq0O",
        "outputId": "cfd93587-030a-49dd-84d3-c46f6a5a2c17"
      },
      "execution_count": 4,
      "outputs": [
        {
          "output_type": "stream",
          "name": "stdout",
          "text": [
            "Enter the desired length of the password: 8\n",
            "Include uppercase letters? (y/n): y\n",
            "Include lowercase letters? (y/n): y\n",
            "Include digits? (y/n): y\n",
            "Include special characters? (y/n): y\n",
            "Generated password: Pb<FCDh/\n"
          ]
        }
      ]
    },
    {
      "cell_type": "code",
      "source": [],
      "metadata": {
        "id": "7ypXANCSNcXa"
      },
      "execution_count": null,
      "outputs": []
    }
  ]
}